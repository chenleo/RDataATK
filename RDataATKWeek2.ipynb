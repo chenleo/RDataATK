{
 "metadata": {
  "name": "",
  "signature": "sha256:2240fa09fdf9884eaf84ccb6969a1e55439ca5c04e72f124eb995b7cd6542aee"
 },
 "nbformat": 3,
 "nbformat_minor": 0,
 "worksheets": [
  {
   "cells": [
    {
     "cell_type": "markdown",
     "metadata": {},
     "source": [
      "# Make your life easier with Rstudio and R tips and tricks\n",
      "\n",
      "A really horrible and unpractical instruction"
     ]
    },
    {
     "cell_type": "code",
     "collapsed": false,
     "input": [
      "%matplotlib inline\n",
      "import numpy as np\n",
      "import matplotlib.pyplot as plt"
     ],
     "language": "python",
     "metadata": {},
     "outputs": [],
     "prompt_number": 1
    },
    {
     "cell_type": "code",
     "collapsed": false,
     "input": [
      "%load_ext rmagic"
     ],
     "language": "python",
     "metadata": {},
     "outputs": [],
     "prompt_number": 2
    },
    {
     "cell_type": "code",
     "collapsed": false,
     "input": [
      "%%R\n",
      "\n",
      "data(iris)\n",
      "names = names(iris)"
     ],
     "language": "python",
     "metadata": {},
     "outputs": [],
     "prompt_number": 11
    },
    {
     "cell_type": "code",
     "collapsed": false,
     "input": [
      "%Rpull names iris"
     ],
     "language": "python",
     "metadata": {},
     "outputs": [],
     "prompt_number": 17
    },
    {
     "cell_type": "code",
     "collapsed": false,
     "input": [
      "whos"
     ],
     "language": "python",
     "metadata": {},
     "outputs": [
      {
       "output_type": "stream",
       "stream": "stdout",
       "text": [
        "Variable   Type       Data/Info\n",
        "-------------------------------\n",
        "           ndarray    : 1 elems, type `object`, 8 bytes\n",
        "iris       ndarray    5x150: 750 elems, type `float64`, 6000 bytes\n",
        "names      ndarray    5: 5 elems, type `|S12`, 60 bytes\n",
        "np         module     <module 'numpy' from '/Us<...>ages/numpy/__init__.pyc'>\n",
        "plt        module     <module 'matplotlib.pyplo<...>s/matplotlib/pyplot.pyc'>\n"
       ]
      }
     ],
     "prompt_number": 18
    },
    {
     "cell_type": "code",
     "collapsed": false,
     "input": [
      "del iris, names"
     ],
     "language": "python",
     "metadata": {},
     "outputs": [],
     "prompt_number": 15
    },
    {
     "cell_type": "code",
     "collapsed": false,
     "input": [],
     "language": "python",
     "metadata": {},
     "outputs": []
    }
   ],
   "metadata": {}
  }
 ]
}